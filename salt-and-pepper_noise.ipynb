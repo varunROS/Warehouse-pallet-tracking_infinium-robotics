{
 "cells": [
  {
   "cell_type": "code",
   "execution_count": 2,
   "metadata": {},
   "outputs": [],
   "source": [
    "import cv2\n",
    "import random"
   ]
  },
  {
   "cell_type": "code",
   "execution_count": 7,
   "metadata": {},
   "outputs": [],
   "source": [
    "def add_noise(img): \n",
    "  \n",
    "    # Getting the dimensions of the image \n",
    "    row , col = img.shape \n",
    "      \n",
    "    # Randomly pick some pixels in the \n",
    "    # image for coloring them white\n",
    "    number_of_pixels = random.randint(5000, 10000) \n",
    "    for i in range(number_of_pixels): \n",
    "        \n",
    "        # Pick a random y coordinate \n",
    "        y=random.randint(0, row - 1) \n",
    "          \n",
    "        # Pick a random x coordinate \n",
    "        x=random.randint(0, col - 1) \n",
    "          \n",
    "        # Color that pixel to white \n",
    "        img[y][x] = 255\n",
    "          \n",
    "    # Randomly pick some pixels in \n",
    "    # the image for coloring them black \n",
    "    \n",
    "    number_of_pixels = random.randint(1000 , 6000) \n",
    "    for i in range(number_of_pixels): \n",
    "        \n",
    "        # Pick a random y coordinate \n",
    "        y_c=random.randint(0, row - 1) \n",
    "          \n",
    "        # Pick a random x coordinate \n",
    "        x_c=random.randint(0, col - 1) \n",
    "          \n",
    "        # Color that pixel to black \n",
    "        img[y_c][x_c] = 0\n",
    "    out.write(img) \n",
    "    return img "
   ]
  },
  {
   "cell_type": "code",
   "execution_count": 8,
   "metadata": {},
   "outputs": [],
   "source": [
    "cap = cv2.VideoCapture('./testing_videos/2020-12-07-12-12-29_right_camera_pylon_camera_node_image_raw_compressed-11.mp4')\n",
    "out = cv2.VideoWriter('2020-12-07-12-12-29_right_camera_pylon_camera_node_image_raw_compressed-10.avi',  cv2.VideoWriter_fourcc(*'XVID') , 20.0, (400, 280))\n",
    "while True:\n",
    "    ret,frame=cap.read()\n",
    "    frame = cv2.resize(frame, (400,280),fx = 0, fy = 0,interpolation = cv2.INTER_CUBIC)\n",
    "    frame= cv2.cvtColor(frame,cv2.COLOR_BGR2GRAY)\n",
    "    cv2.imshow('Result Frame', add_noise(frame))\n",
    "     \n",
    "    if cv2.waitKey(1) & 0xFF == ord('q'):\n",
    "        break\n",
    "        \n",
    "# Release video and close windows\n",
    "cap.release()\n",
    "out.release()\n",
    "cv2.destroyAllWindows() "
   ]
  },
  {
   "cell_type": "code",
   "execution_count": null,
   "metadata": {},
   "outputs": [],
   "source": []
  }
 ],
 "metadata": {
  "kernelspec": {
   "display_name": "Python 3",
   "language": "python",
   "name": "python3"
  },
  "language_info": {
   "codemirror_mode": {
    "name": "ipython",
    "version": 3
   },
   "file_extension": ".py",
   "mimetype": "text/x-python",
   "name": "python",
   "nbconvert_exporter": "python",
   "pygments_lexer": "ipython3",
   "version": "3.8.5"
  }
 },
 "nbformat": 4,
 "nbformat_minor": 4
}
