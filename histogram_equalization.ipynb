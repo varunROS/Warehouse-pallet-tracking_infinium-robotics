{
 "cells": [
  {
   "cell_type": "code",
   "execution_count": null,
   "metadata": {},
   "outputs": [],
   "source": [
    "import numpy as np\n",
    "import cv2"
   ]
  },
  {
   "cell_type": "code",
   "execution_count": null,
   "metadata": {},
   "outputs": [],
   "source": [
    "def hist_equ(image):\n",
    "    \n",
    "    equ = cv2.equalizeHist(image)\n",
    "    res = np.hstack((image,equ)) #stacking images side-by-side\n",
    "    return res"
   ]
  },
  {
   "cell_type": "code",
   "execution_count": null,
   "metadata": {},
   "outputs": [],
   "source": [
    "cap = cv2.VideoCapture('./testing_videos/2020-12-07-12-12-29_right_camera_pylon_camera_node_image_raw_compressed-10.mp4')\n",
    "out = cv2.VideoWriter('2020-12-07-12-12-29_right_camera_pylon_camera_node_image_raw_compressed-10.avi',  cv2.VideoWriter_fourcc(*'XVID') , 20.0, (400, 280))\n",
    "while True:\n",
    "    ret,frame=cap.read()\n",
    "    frame = cv2.resize(frame, (400,280),fx = 0, fy = 0,interpolation = cv2.INTER_CUBIC)\n",
    "    frame= cv2.cvtColor(frame,cv2.COLOR_BGR2GRAY)\n",
    "    cv2.imshow('Result Frame', hist_equ(frame))\n",
    "    \n",
    "    if cv2.waitKey(1) & 0xFF == ord('q'):\n",
    "        break\n",
    "        \n",
    "# Release video and close windows\n",
    "cap.release()\n",
    "out.release()\n",
    "cv2.destroyAllWindows() "
   ]
  },
  {
   "cell_type": "code",
   "execution_count": null,
   "metadata": {},
   "outputs": [],
   "source": []
  }
 ],
 "metadata": {
  "kernelspec": {
   "display_name": "Python 3",
   "language": "python",
   "name": "python3"
  },
  "language_info": {
   "codemirror_mode": {
    "name": "ipython",
    "version": 3
   },
   "file_extension": ".py",
   "mimetype": "text/x-python",
   "name": "python",
   "nbconvert_exporter": "python",
   "pygments_lexer": "ipython3",
   "version": "3.8.5"
  }
 },
 "nbformat": 4,
 "nbformat_minor": 4
}
